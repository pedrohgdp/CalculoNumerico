{
  "nbformat": 4,
  "nbformat_minor": 0,
  "metadata": {
    "colab": {
      "provenance": [],
      "authorship_tag": "ABX9TyPrwSYwju2CBrEmLKlwwAw1",
      "include_colab_link": true
    },
    "kernelspec": {
      "name": "python3",
      "display_name": "Python 3"
    },
    "language_info": {
      "name": "python"
    }
  },
  "cells": [
    {
      "cell_type": "markdown",
      "metadata": {
        "id": "view-in-github",
        "colab_type": "text"
      },
      "source": [
        "<a href=\"https://colab.research.google.com/github/pedrohgdp/CalculoNumerico/blob/main/C%C3%A1lculo_Num%C3%A9rico.ipynb\" target=\"_parent\"><img src=\"https://colab.research.google.com/assets/colab-badge.svg\" alt=\"Open In Colab\"/></a>"
      ]
    },
    {
      "cell_type": "code",
      "source": [
        "#First install sympy\n",
        "!pip install sympy"
      ],
      "metadata": {
        "colab": {
          "base_uri": "https://localhost:8080/"
        },
        "id": "gbl0QkO_6NrL",
        "outputId": "73abbab9-8fba-4fc9-e440-a622ef23f86d"
      },
      "execution_count": null,
      "outputs": [
        {
          "output_type": "stream",
          "name": "stdout",
          "text": [
            "Requirement already satisfied: sympy in /usr/local/lib/python3.11/dist-packages (1.13.3)\n",
            "Requirement already satisfied: mpmath<1.4,>=1.1.0 in /usr/local/lib/python3.11/dist-packages (from sympy) (1.3.0)\n"
          ]
        }
      ]
    },
    {
      "cell_type": "markdown",
      "source": [
        " ***Approximating a definite integral using Simpson's 1/3 rule***\n"
      ],
      "metadata": {
        "id": "LQ3JPWcx6SJ3"
      }
    },
    {
      "cell_type": "code",
      "source": [
        "import numpy as np\n",
        "from sympy import symbols, sympify, lambdify, E\n",
        "from sympy.parsing.sympy_parser import parse_expr\n",
        "\n",
        "def main():\n",
        "  #Define x as a symbol\n",
        "  x = symbols('x')\n",
        "\n",
        "  #Receives the expression\n",
        "  user_Expression = input(\"Enter the mathematical expression (Euler's number with uppercase E): \")\n",
        "  #Uses sympify to convert the string into a symbolic format that sympy can use\n",
        "  num_Expression = sympify(user_Expression)\n",
        "  #Create a numerical function from the symbolic expression\n",
        "  f = lambdify(x, num_Expression, 'numpy')\n",
        "\n",
        "  #Receives the values for a, b, and subintervals n\n",
        "  try:\n",
        "    a = int(input(\"Enter the value of a for the interval [a, b]: \"))\n",
        "    b = int(input(\"Enter the value of b for the interval [a, b]: \"))\n",
        "    n = int(input(\"Enter the value of n (n = number of subintervals, it must be even):  \"))\n",
        "    if n == 0 or n % 2 != 0:\n",
        "      raise ValueError(\"The value of n must be even.\")\n",
        "    else:\n",
        "      print(\"a:\", a, \"b:\", b, \"n:\", n)\n",
        "  except ValueError as error:\n",
        "    print(error)\n",
        "\n",
        "  #Calculates h (the distance between two points)\n",
        "  h = (b - a)/n\n",
        "\n",
        "  #Generates a list of points from a to b with increments of h\n",
        "  points = np.arange(a, b + h, h)\n",
        "  #Creates a linspace y with all the values of f at the points\n",
        "  y = f(points)\n",
        "\n",
        "  #Calculates the result\n",
        "  result = (y[0] + y[-1])\n",
        "  result += 4 * sum(y[1:-1:2])\n",
        "  result += 2 * sum(y[2:-1:2])\n",
        "  result *= h/3\n",
        "\n",
        "  print(f\"The result of the integration of f is: {result:.6f}\")\n",
        "\n",
        "\n",
        "main()\n"
      ],
      "metadata": {
        "id": "arAg-_9CnbvY"
      },
      "execution_count": null,
      "outputs": []
    },
    {
      "cell_type": "markdown",
      "source": [
        "**Newton-Raphson method to find the roots of a function**"
      ],
      "metadata": {
        "id": "skvTz-R6Bv-4"
      }
    },
    {
      "cell_type": "code",
      "source": [
        "from os import X_OK\n",
        "import numpy as np\n",
        "from sympy import symbols, sympify, lambdify, E, diff\n",
        "from sympy.parsing.sympy_parser import parse_expr\n",
        "\n",
        "def newton_raphson(f_derivative, f, a, b, precision, x0, x_list):\n",
        "  max_iteration = 1000\n",
        "  iteration = 0\n",
        "\n",
        "  while iteration < max_iteration:\n",
        "    #Calculate x1\n",
        "    try:\n",
        "        x1 = x0 - f(x0) / f_derivative(x0)\n",
        "    except ZeroDivisionError:\n",
        "        print(\"Division by zero detected!\")\n",
        "        break\n",
        "\n",
        "    if(a <= x1 and x1 <= b):\n",
        "      x_list.append(x1)\n",
        "      if(abs(f(x1)) <= precision):\n",
        "        print()\n",
        "        print(f\"The found root is: {x1:.6f}\")\n",
        "        break;\n",
        "      else:\n",
        "        x0 = x1\n",
        "    else:\n",
        "      print(\"The root is outside the interval.\")\n",
        "      break\n",
        "\n",
        "    iteration += 1\n",
        "\n",
        "  else:\n",
        "    print(\"Método não convergiu após 1000 iterações.\")\n",
        "\n",
        "def print_table(f, f_derivative, a, b, x0, x_list):\n",
        "  print()\n",
        "  print(\"{:<5} {:<12} {:<12} {:<12} {:<12}\".format(\"k\", \"Xk\", \"f(Xk)\", \"f'(Xk)\", \"|f(Xk)|\"))\n",
        "  print(\"-\" * 60)\n",
        "  for k in range(len(x_list)):\n",
        "    print(\"{:<5} {:<12.6f} {:<12.6f} {:<12.6f} {:<12.6f}\".format(k, x_list[k], f(x_list[k]), f_derivative(x_list[k]), abs(f(x_list[k]))))\n",
        "\n",
        "\n",
        "def main():\n",
        "  #Define x as a symbol\n",
        "  x = symbols('x')\n",
        "\n",
        "  #Receive the expression\n",
        "  user_Expression = input(\"Enter the mathematical expression (use uppercase E for Euler's number and sqrt(x) for square root): \")\n",
        "\n",
        "  #Uses sympify to convert the string to a symbolic format that sympy can use\n",
        "  symbolic_Expression = sympify(user_Expression)\n",
        "\n",
        "  #Define the expression derivative\n",
        "  derivative = diff(symbolic_Expression, x)\n",
        "\n",
        "  #Create a numerical function from the symbolic derivative\n",
        "  f_derivative = lambdify(x, derivative, 'numpy')\n",
        "\n",
        "  #Create a numerical function from the symbolic expression\n",
        "  f = lambdify(x, symbolic_Expression, 'numpy')\n",
        "\n",
        "  a = float(input(\"Enter the value of a for the interval [a, b]: \"))\n",
        "  b = float(input(\"Enter the value of b for the interval [a, b]: \"))\n",
        "  precision = float(input(\"Enter the precision (e.g., 0.01): \"))\n",
        "  x0 = (a + b) / 2\n",
        "  x_list = []\n",
        "\n",
        "  newton_raphson(f_derivative, f, a, b, precision, x0, x_list)\n",
        "  print_table(f, f_derivative, a, b, x0, x_list)\n",
        "\n",
        "main()\n"
      ],
      "metadata": {
        "id": "B0XqDpn8FcrP"
      },
      "execution_count": null,
      "outputs": []
    }
  ]
}